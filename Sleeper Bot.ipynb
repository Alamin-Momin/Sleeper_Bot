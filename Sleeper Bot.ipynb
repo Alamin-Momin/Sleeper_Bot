{
 "cells": [
  {
   "cell_type": "markdown",
   "metadata": {},
   "source": [
    "# Sleeper Bot - Discord Webhook\n",
    "The purpose of this bot is to find players that score the most points above expectation which are then valuable to add. While these types of players are typically reflected in the trending section, this bot finds players I as a fantasy player am most intersted in. "
   ]
  },
  {
   "cell_type": "code",
   "execution_count": 11,
   "metadata": {},
   "outputs": [],
   "source": [
    "import requests\n",
    "from discord_webhook import DiscordWebhook, DiscordEmbed\n",
    "\n",
    "\n",
    "#sample dictionary used for testing purposes - will be replaced by dictionary created from scarped projections/performances",
    "player_dictionary  = {'Kevin Durant': [39, 27],\n",
    "             'Lebron James': [12, 53],\n",
    "             'Rudy Gobert': [69, 32],\n",
    "             'Mike Conley': [33, 34],\n",
    "             'Luca Doncic': [27, 29]}\n",
    "\n",
    "# Post the message to the Discord webhook\n",
    "for player in player_dictionary:\n",
    "    if player_dictionary[player][0] > player_dictionary[player][1]:\n",
    "        webhook = DiscordWebhook(url = 'https://discord.com/api/webhooks/797967814475644938/du3YEIaENEWQ9ohzsoMVzxRZSUVAyLPEieDho1SnGJHjq7bZ5zX7u6NLFb8ye2GoblEu')\n",
    "        embed = DiscordEmbed(title='Sleeper Alert!!!', color=242424)\n",
    "        embed.set_author(name='Sleeper Bot')\n",
    "        embed.set_thumbnail(url = 'https://sleepercdn.com/images/logos/og_logo-66ee2f04c1dc70ba8cb5ec9f780990d1.png?vsn=d')\n",
    "        embed.set_footer(text='kareem + alamin')\n",
    "        embed.set_timestamp()\n",
    "        embed.add_embed_field(name='Player Name', value=str(player), inline = False, color = 324235)\n",
    "        embed.add_embed_field(name='Projections', value=str(player_dictionary[player][1]))\n",
    "        embed.add_embed_field(name='Actual Performance', value=str(player_dictionary[player][0]))\n",
    "        webhook.add_embed(embed)\n",
    "        response = webhook.execute()\n",
    "                              "
   ]
  }
 ],
 "metadata": {
  "kernelspec": {
   "display_name": "Python 3",
   "language": "python",
   "name": "python3"
  },
  "language_info": {
   "codemirror_mode": {
    "name": "ipython",
    "version": 3
   },
   "file_extension": ".py",
   "mimetype": "text/x-python",
   "name": "python",
   "nbconvert_exporter": "python",
   "pygments_lexer": "ipython3",
   "version": "3.7.4"
  }
 },
 "nbformat": 4,
 "nbformat_minor": 2
}
